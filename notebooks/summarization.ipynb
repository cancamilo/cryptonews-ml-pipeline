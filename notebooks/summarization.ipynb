{
 "cells": [
  {
   "cell_type": "code",
   "execution_count": 48,
   "metadata": {},
   "outputs": [],
   "source": [
    "import pandas as pd\n",
    "df = pd.read_csv(\"../data/all_articles.csv\")\n",
    "df[\"published_at\"].value_counts()\n",
    "df = df[df[\"published_at\"].isin([\"2024-07-26\", \"2024-07-25\"])]"
   ]
  },
  {
   "cell_type": "code",
   "execution_count": 49,
   "metadata": {},
   "outputs": [],
   "source": [
    "import langchain\n",
    "from langchain.chains.summarize import load_summarize_chain\n",
    "from langchain_community.document_loaders import WebBaseLoader\n",
    "from langchain_openai import ChatOpenAI\n",
    "from dotenv import load_dotenv\n",
    "from langchain_community.document_loaders import DataFrameLoader\n",
    "load_dotenv()\n",
    "\n",
    "loader = DataFrameLoader(df, page_content_column=\"content\")\n",
    "docs = loader.load()\n"
   ]
  },
  {
   "cell_type": "markdown",
   "metadata": {},
   "source": [
    "#### Stuffing"
   ]
  },
  {
   "cell_type": "code",
   "execution_count": 42,
   "metadata": {},
   "outputs": [
    {
     "name": "stdout",
     "output_type": "stream",
     "text": [
      "Elon Musk's social media platform, X, has removed several cryptocurrency emojis, causing confusion and concern in the crypto community. The removal of the emojis, including Bitcoin, has led to speculation about its impact on the market. Meanwhile, the Web3 gaming industry is facing challenges with some projects failing to deliver on promises, while Nigeria's technology sector is developing the country's first artificial intelligence with the help of a local startup. JPMorgan Chase has launched an in-house AI product, and there are concerns about the impact of spot Ethereum ETFs on Bitcoin's price. Additionally, Hollywood video game performers are set to go on strike, and Google DeepMind's AI models have achieved breakthroughs in solving complex mathematics problems. Interpol has issued red notices for two Hong Kong crypto influencers wanted for theft, fraud, and money laundering. Lastly, executives at Metaplanet and Semler Scientific have followed MicroStrategy's Bitcoin playbook to revive their companies and see a surge in their share prices.\n"
     ]
    }
   ],
   "source": [
    "llm = ChatOpenAI(temperature=0, model_name=\"gpt-3.5-turbo-1106\")\n",
    "chain = load_summarize_chain(llm, chain_type=\"stuff\")\n",
    "result = chain.invoke(docs)\n",
    "print(result[\"output_text\"])\n",
    "\n",
    "# Does not work because it suerpasses the maximum context length allowed"
   ]
  },
  {
   "cell_type": "markdown",
   "metadata": {},
   "source": [
    "#### Map Reduce"
   ]
  },
  {
   "cell_type": "code",
   "execution_count": 43,
   "metadata": {},
   "outputs": [],
   "source": [
    "from langchain.chains.combine_documents.stuff import StuffDocumentsChain\n",
    "from langchain.chains.llm import LLMChain\n",
    "from langchain_core.prompts import PromptTemplate\n",
    "from langchain.chains import MapReduceDocumentsChain, ReduceDocumentsChain\n",
    "from langchain_text_splitters import CharacterTextSplitter\n",
    "\n",
    "llm = ChatOpenAI(temperature=0)\n",
    "\n",
    "# Map\n",
    "map_template = \"\"\"The following is a set of documents\n",
    "{docs}\n",
    "Based on this list of docs, please identify the main themes \n",
    "Helpful Answer:\"\"\"\n",
    "map_prompt = PromptTemplate.from_template(map_template)\n",
    "map_chain = LLMChain(llm=llm, prompt=map_prompt)\n",
    "\n",
    "# Reduce\n",
    "reduce_template = \"\"\"The following is set of summaries:\n",
    "{docs}\n",
    "Take these and distill it into a final, consolidated summary of the main themes. \n",
    "Helpful Answer:\"\"\"\n",
    "reduce_prompt = PromptTemplate.from_template(reduce_template)\n",
    "reduce_chain = LLMChain(llm=llm, prompt=reduce_prompt)"
   ]
  },
  {
   "cell_type": "code",
   "execution_count": 44,
   "metadata": {},
   "outputs": [],
   "source": [
    "# Takes a list of documents, combines them into a single string, and passes this to an LLMChain\n",
    "combine_documents_chain = StuffDocumentsChain(\n",
    "    llm_chain=reduce_chain, document_variable_name=\"docs\"\n",
    ")\n",
    "\n",
    "# Combines and iteratively reduces the mapped documents\n",
    "reduce_documents_chain = ReduceDocumentsChain(\n",
    "    # This is final chain that is called.\n",
    "    combine_documents_chain=combine_documents_chain,\n",
    "    # If documents exceed context for `StuffDocumentsChain`\n",
    "    collapse_documents_chain=combine_documents_chain,\n",
    "    # The maximum number of tokens to group documents into.\n",
    "    token_max=8000,\n",
    ")"
   ]
  },
  {
   "cell_type": "code",
   "execution_count": 46,
   "metadata": {},
   "outputs": [],
   "source": [
    "# Combining documents by mapping a chain over them, then combining results\n",
    "map_reduce_chain = MapReduceDocumentsChain(\n",
    "    # Map chain\n",
    "    llm_chain=map_chain,\n",
    "    # Reduce chain\n",
    "    reduce_documents_chain=reduce_documents_chain,\n",
    "    # The variable name in the llm_chain to put the documents in\n",
    "    document_variable_name=\"docs\",\n",
    "    # Return the results of the map steps in the output\n",
    "    return_intermediate_steps=True,\n",
    ")\n",
    "\n",
    "text_splitter = CharacterTextSplitter.from_tiktoken_encoder(\n",
    "    chunk_size=1000, chunk_overlap=0\n",
    ")\n",
    "split_docs = text_splitter.split_documents(docs)"
   ]
  },
  {
   "cell_type": "code",
   "execution_count": 47,
   "metadata": {},
   "outputs": [
    {
     "name": "stdout",
     "output_type": "stream",
     "text": [
      "The main themes across the summaries include cryptocurrency developments, advancements in artificial intelligence, regulatory challenges, market trends, and the impact of key figures like Elon Musk and Donald Trump. These themes also touch on the intersection of technology, finance, and politics, highlighting the evolving landscape of digital assets, AI applications, and regulatory frameworks. Additionally, there is a focus on industry-specific issues such as labor rights in gaming, financial investments in AI research, and the implications of cryptocurrency fraud. Overall, the summaries reflect a dynamic and multifaceted ecosystem where innovation, regulation, and market dynamics intersect to shape the future of technology and finance.\n"
     ]
    }
   ],
   "source": [
    "result = map_reduce_chain.invoke(split_docs)\n",
    "\n",
    "print(result[\"output_text\"])"
   ]
  },
  {
   "cell_type": "markdown",
   "metadata": {},
   "source": [
    "#### Summarize"
   ]
  },
  {
   "cell_type": "code",
   "execution_count": 50,
   "metadata": {},
   "outputs": [
    {
     "name": "stdout",
     "output_type": "stream",
     "text": [
      "The International Criminal Police Organization (Interpol) has issued red notices for two Hong Kong crypto influencers, Wong Ching Kit and Mok Tsun Ting, who are wanted for theft, fraud, and money laundering. Wong, known as \"Coin Young Master,\" is wanted for fraud and theft in Hong Kong, while Mok is wanted for money laundering. Both individuals were involved in promoting the now-collapsed crypto exchange JPEX, which was at the center of a significant fraud case in Hong Kong. Wong has a history of legal controversies and was previously ordered to remove all videos related to JPEX from his social media. Mok was arrested in connection to the JPEX scandal but was released on bail. The exchange collapsed amid allegations of a Ponzi scheme, resulting in over 70 arrests and $206 million in losses for clients. Wong and Mok have also faced fraud charges in the past related to the sale of \"mining rigs\" for the cryptocurrency Filecoin. The investigation into JPEX began in September last year after it was identified as an unlicensed virtual asset trading platform. As of June 3, a total of 73 individuals associated with the exchange have been arrested, all of whom have been released on bail. Additionally, executives at Metaplanet and Semler Scientific have been inspired by MicroStrategy's Bitcoin playbook to revive their companies from \"zombie\" status, leading to significant increases in their share prices. Both companies have embraced Bitcoin adoption to strengthen their balance sheets and reduce exposure to currency depreciation, despite the extreme volatility that comes with it.\n"
     ]
    }
   ],
   "source": [
    "chain = load_summarize_chain(llm, chain_type=\"refine\")\n",
    "result = chain.invoke(split_docs)\n",
    "\n",
    "print(result[\"output_text\"])"
   ]
  }
 ],
 "metadata": {
  "kernelspec": {
   "display_name": "text-fetch-etl-nMcXCGuE-py3.10",
   "language": "python",
   "name": "python3"
  },
  "language_info": {
   "codemirror_mode": {
    "name": "ipython",
    "version": 3
   },
   "file_extension": ".py",
   "mimetype": "text/x-python",
   "name": "python",
   "nbconvert_exporter": "python",
   "pygments_lexer": "ipython3",
   "version": "3.10.4"
  }
 },
 "nbformat": 4,
 "nbformat_minor": 2
}
