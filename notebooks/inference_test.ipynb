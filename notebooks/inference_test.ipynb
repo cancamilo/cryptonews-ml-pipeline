{
 "cells": [
  {
   "cell_type": "code",
   "execution_count": 7,
   "metadata": {},
   "outputs": [
    {
     "name": "stdout",
     "output_type": "stream",
     "text": [
      "The autoreload extension is already loaded. To reload it, use:\n",
      "  %reload_ext autoreload\n"
     ]
    }
   ],
   "source": [
    "%load_ext autoreload\n",
    "%autoreload 2\n",
    "\n",
    "import os\n",
    "import sys\n",
    "import time\n",
    "import pandas as pd\n",
    "\n",
    "# Do this to enable importing modules\n",
    "src_path = os.path.join(os.path.abspath(\"\"), \"..\")\n",
    "sys.path.insert(0, src_path)\n",
    "\n",
    "from model_evaluation.evaluation import evaluate_llm\n",
    "from model_evaluation.llm_components.prompt_templates import InferenceTemplate\n",
    "from model_evaluation.monitoring import PromptMonitoringManager\n",
    "from qwak_inference import RealTimeClient\n",
    "from model_evaluation.rag.retriever import VectorRetriever\n",
    "from model_evaluation.settings import settings"
   ]
  }
 ],
 "metadata": {
  "kernelspec": {
   "display_name": "text-fetch-etl-nMcXCGuE-py3.10",
   "language": "python",
   "name": "python3"
  },
  "language_info": {
   "codemirror_mode": {
    "name": "ipython",
    "version": 3
   },
   "file_extension": ".py",
   "mimetype": "text/x-python",
   "name": "python",
   "nbconvert_exporter": "python",
   "pygments_lexer": "ipython3",
   "version": "3.10.4"
  }
 },
 "nbformat": 4,
 "nbformat_minor": 2
}
