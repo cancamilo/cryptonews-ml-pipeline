{
 "cells": [
  {
   "cell_type": "code",
   "execution_count": 1,
   "metadata": {},
   "outputs": [
    {
     "name": "stdout",
     "output_type": "stream",
     "text": [
      "Init evaluation\n",
      "Notice that BatchInferenceClient and FeedbackClient are not available in the skinny package. In order to use them, please install them as extras: pip install \"qwak-inference[batch,feedback]\".\n"
     ]
    },
    {
     "name": "stderr",
     "output_type": "stream",
     "text": [
      "/Users/camiloramirezf/Library/Caches/pypoetry/virtualenvs/text-fetch-etl-nMcXCGuE-py3.10/lib/python3.10/site-packages/tqdm/auto.py:21: TqdmWarning: IProgress not found. Please update jupyter and ipywidgets. See https://ipywidgets.readthedocs.io/en/stable/user_install.html\n",
      "  from .autonotebook import tqdm as notebook_tqdm\n"
     ]
    }
   ],
   "source": [
    "%load_ext autoreload\n",
    "%autoreload 2\n",
    "\n",
    "import os\n",
    "import sys\n",
    "import time\n",
    "import pandas as pd\n",
    "\n",
    "# Do this to enable importing modules\n",
    "src_path = os.path.join(os.path.abspath(\"\"), \"..\")\n",
    "sys.path.insert(0, src_path)\n",
    "\n",
    "from model_evaluation.evaluation import evaluate_llm\n",
    "from model_evaluation.llm_components.prompt_templates import InferenceTemplate\n",
    "from model_evaluation.monitoring import PromptMonitoringManager\n",
    "from qwak_inference import RealTimeClient\n",
    "from model_evaluation.rag.retriever import VectorRetriever\n",
    "from model_evaluation.settings import settings"
   ]
  },
  {
   "cell_type": "code",
   "execution_count": 29,
   "metadata": {},
   "outputs": [
    {
     "data": {
      "text/plain": [
       "\"<s> You are an AI language model assistant. Your task is to generate a cohesive and concise response to the user question.\\n    Question: Tell me about the approval of Bitcoin ETFs\\n    \\n    Answer: Bitcoin ETFs, or exchange-traded funds that hold bitcoin, have been approved by several regulatory bodies. In the United States, the Securities and Exchange Commission (SEC) has approved a number of Bitcoin ETFs, including the ProShares Bitcoin ETF, the Bitwise Bitcoin ETF, and the VanEck Bitcoin ETF. In Canada, the Ontario Securities Commission approved the Bitwave ETF, and in Europe, the European Union's Financial Conduct Authority approved the Amount Bitcoin ETF. However, the approval of Bitcoin ETFs is not universal and there are still regulatory hurdles that must be overcome in some countries. Additionally, some critics argue that Bitcoin ETFs could lead to increased volatility and potential market manipulation.</s>\""
      ]
     },
     "execution_count": 29,
     "metadata": {},
     "output_type": "execute_result"
    }
   ],
   "source": [
    "prompt_builder = InferenceTemplate()\n",
    "template = prompt_builder.create_template(enable_rag=False)\n",
    "prompt = template.format(question=\"Tell me about the approval of Bitcoin ETFs\")\n",
    "\n",
    "input_ = pd.DataFrame([{\"instruction\": prompt}]).to_json()\n",
    "input_\n",
    "qwak_client = RealTimeClient(\n",
    "    model_id=settings.QWAK_DEPLOYMENT_MODEL_ID,\n",
    ")\n",
    "\n",
    "response: list[dict] = qwak_client.predict(input_)\n",
    "content = response[0][\"content\"]"
   ]
  },
  {
   "cell_type": "code",
   "execution_count": 32,
   "metadata": {},
   "outputs": [
    {
     "data": {
      "text/plain": [
       "['<s> You are an AI language model assistant. Your task is to generate a cohesive and concise response to the user question.',\n",
       " '    Question: Tell me about the approval of Bitcoin ETFs',\n",
       " '    ',\n",
       " \"    Answer: Bitcoin ETFs, or exchange-traded funds that hold bitcoin, have been approved by several regulatory bodies. In the United States, the Securities and Exchange Commission (SEC) has approved a number of Bitcoin ETFs, including the ProShares Bitcoin ETF, the Bitwise Bitcoin ETF, and the VanEck Bitcoin ETF. In Canada, the Ontario Securities Commission approved the Bitwave ETF, and in Europe, the European Union's Financial Conduct Authority approved the Amount Bitcoin ETF. However, the approval of Bitcoin ETFs is not universal and there are still regulatory hurdles that must be overcome in some countries. Additionally, some critics argue that Bitcoin ETFs could lead to increased volatility and potential market manipulation.</s>\"]"
      ]
     },
     "execution_count": 32,
     "metadata": {},
     "output_type": "execute_result"
    }
   ],
   "source": [
    "content[0].strip().split(\"\\n\")"
   ]
  }
 ],
 "metadata": {
  "kernelspec": {
   "display_name": "text-fetch-etl-nMcXCGuE-py3.10",
   "language": "python",
   "name": "python3"
  },
  "language_info": {
   "codemirror_mode": {
    "name": "ipython",
    "version": 3
   },
   "file_extension": ".py",
   "mimetype": "text/x-python",
   "name": "python",
   "nbconvert_exporter": "python",
   "pygments_lexer": "ipython3",
   "version": "3.10.4"
  }
 },
 "nbformat": 4,
 "nbformat_minor": 2
}
